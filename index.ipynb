{
 "cells": [
  {
   "cell_type": "markdown",
   "id": "51181102",
   "metadata": {
    "slideshow": {
     "slide_type": "slide"
    }
   },
   "source": [
    "# Psi4 seminar\n",
    "## Author: Peter Kraus\n",
    "### Date: 16th of April 2021, Forrest Hall\n",
    "### Version: 1"
   ]
  },
  {
   "cell_type": "markdown",
   "id": "727f851e",
   "metadata": {
    "slideshow": {
     "slide_type": "slide"
    }
   },
   "source": [
    "### Outline"
   ]
  },
  {
   "cell_type": "markdown",
   "id": "a45a8d1e",
   "metadata": {
    "cell_style": "split",
    "slideshow": {
     "slide_type": "fragment"
    }
   },
   "source": [
    "- [Session 1](session_1.ipynb):\n",
    "  - Installing Psi4\n",
    "  - Running Psi4\n",
    "    - As an executable\n",
    "    - As a python moduel\n",
    "    - Via QCEngine\n",
    "  - Basics in Psi4\n",
    "    - Molecule specification\n",
    "    - Single-point energies\n",
    "    - Geometry optimizations\n",
    "    - Frequency calculations"
   ]
  },
  {
   "cell_type": "markdown",
   "id": "e950a806",
   "metadata": {
    "cell_style": "split",
    "slideshow": {
     "slide_type": "fragment"
    }
   },
   "source": [
    "- Session 2:\n",
    "  - Practical intro to SAPT\n",
    "    - A short SAPT overview\n",
    "    - Method selection\n",
    "  - Focal point methods\n",
    "    - Basis set extrapolation\n",
    "    - Composite methods\n",
    "    - Extrapolation of DFT"
   ]
  }
 ],
 "metadata": {
  "celltoolbar": "Slideshow",
  "kernelspec": {
   "display_name": "psi4_seminar",
   "language": "python",
   "name": "psi4_seminar"
  },
  "language_info": {
   "codemirror_mode": {
    "name": "ipython",
    "version": 3
   },
   "file_extension": ".py",
   "mimetype": "text/x-python",
   "name": "python",
   "nbconvert_exporter": "python",
   "pygments_lexer": "ipython3",
   "version": "3.9.2"
  },
  "rise": {
   "auto_select": "first",
   "auto_select_fragment": true,
   "autolaunch": true,
   "center": false,
   "enable_chalkboard": true,
   "scroll": true,
   "start_slideshow_at": "beginning",
   "theme": "simple"
  }
 },
 "nbformat": 4,
 "nbformat_minor": 5
}
