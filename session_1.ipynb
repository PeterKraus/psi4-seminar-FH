{
 "cells": [
  {
   "cell_type": "markdown",
   "id": "17e00d59",
   "metadata": {
    "slideshow": {
     "slide_type": "slide"
    }
   },
   "source": [
    "## Installing Psi4\n"
   ]
  },
  {
   "cell_type": "markdown",
   "id": "dad348d9",
   "metadata": {
    "slideshow": {
     "slide_type": "fragment"
    }
   },
   "source": [
    "- Installation:\n",
    "    - Conda installation is preferred:\n",
    "    ```bash\n",
    "    conda create -n <envname> psi4 psi4-rt -c psi4/label/dev\n",
    "    ```\n",
    "    - Download a pre-packaged binary from [psicode.org](http://psicode.org)\n",
    "    - Compile from source. Not advised."
   ]
  },
  {
   "cell_type": "markdown",
   "id": "00a09232",
   "metadata": {
    "slideshow": {
     "slide_type": "fragment"
    }
   },
   "source": [
    "- Documentation:\n",
    "    - Docs of `master` version linked to [psicode.org/psi4manual/master/](https://psicode.org/psi4manual/master/)\n",
    "    - Forums on [forum.psicode.org](http://forum.psicode.org)\n",
    "    - Development support & **bug reports** on github: [github.com/psi4/psi4](https://github.com/psi4/psi4/)"
   ]
  },
  {
   "cell_type": "markdown",
   "id": "4e7b6a8f",
   "metadata": {
    "slideshow": {
     "slide_type": "slide"
    }
   },
   "source": [
    "## Running Psi4"
   ]
  },
  {
   "cell_type": "markdown",
   "id": "b51e487b",
   "metadata": {
    "cell_style": "split",
    "slideshow": {
     "slide_type": "fragment"
    }
   },
   "source": [
    "Three main ways to run Psi4:\n",
    "  - as an executable (Psithon)\n",
    "  - as a python module (Psi API)\n",
    "  - via QCSchema / QCEngine"
   ]
  },
  {
   "cell_type": "markdown",
   "id": "929c839c",
   "metadata": {
    "cell_style": "split",
    "slideshow": {
     "slide_type": "fragment"
    }
   },
   "source": [
    "<img src=\"images/psi4_schema.jpeg\"/>"
   ]
  },
  {
   "cell_type": "markdown",
   "id": "2b8fa3f8",
   "metadata": {
    "slideshow": {
     "slide_type": "slide"
    }
   },
   "source": [
    "### Psithon"
   ]
  },
  {
   "cell_type": "markdown",
   "id": "bcef89f9",
   "metadata": {
    "cell_style": "split",
    "slideshow": {
     "slide_type": "-"
    }
   },
   "source": [
    "- standalone input and output file\n",
    "- no need for python knowledge\n",
    "- most analogous with Gaussian, Orca etc.\n"
   ]
  },
  {
   "cell_type": "markdown",
   "id": "45c4fe47",
   "metadata": {
    "cell_style": "split",
    "slideshow": {
     "slide_type": "fragment"
    }
   },
   "source": [
    "- job specification within job script:\n",
    "  - memory using `set memory 4GB`\n",
    "  - number of cores using `set num_threads 2`"
   ]
  },
  {
   "cell_type": "markdown",
   "id": "ab940daa",
   "metadata": {
    "slideshow": {
     "slide_type": "fragment"
    }
   },
   "source": [
    "- command line options:\n",
    "  - `-i` input file, by default `input.dat`\n",
    "  - `-o` output file, by default `output.dat`, or if `-i` is specified `<input>.out`\n",
    "  - `-n` to specify number of threads\n",
    "  - `-l` to override Psi4's data dir (mainly basis set data)\n",
    "  - `-s` to override Psi4's scratch dir, by default `/tmp/`\n",
    "  - `-v` verbose output"
   ]
  },
  {
   "cell_type": "markdown",
   "id": "c70629df",
   "metadata": {
    "slideshow": {
     "slide_type": "fragment"
    }
   },
   "source": [
    "- useful environmental variables:\n",
    "  - `PATH` for `psi4`, `dftd3`, `gcp` binaries, conda should take care of this\n",
    "  - `PSI_SCRATCH` for Psi4's scratch dir, by default `/tmp/`"
   ]
  },
  {
   "cell_type": "markdown",
   "id": "c543593d",
   "metadata": {
    "slideshow": {
     "slide_type": "slide"
    }
   },
   "source": [
    "### Psithon example: "
   ]
  },
  {
   "cell_type": "markdown",
   "id": "e5c26dbf",
   "metadata": {
    "cell_style": "split",
    "slideshow": {
     "slide_type": "-"
    }
   },
   "source": [
    "#### FeC triplet with HF/cc-pVDZ-PP\n",
    "\n",
    "- using direct SCF (as opposed to the default DF)\n",
    "- tight convergence criteria."
   ]
  },
  {
   "cell_type": "markdown",
   "id": "74dad763",
   "metadata": {
    "cell_style": "split",
    "slideshow": {
     "slide_type": "fragment"
    }
   },
   "source": [
    "---\n",
    "```python\n",
    "molecule dimer {\n",
    " 0 3\n",
    " Fe 0 0 0\n",
    " C  0 0 3.1558426295145727\n",
    "}\n",
    "\n",
    "set reference rohf\n",
    "set scf_type direct\n",
    "set e_convergence 1e-11\n",
    "set r_convergence 1e-11\n",
    "set d_convergence 1e-11\n",
    "\n",
    "energy('hf/cc-pvdz-pp')\n",
    "```\n",
    "---"
   ]
  },
  {
   "cell_type": "markdown",
   "id": "30e36e0f",
   "metadata": {
    "slideshow": {
     "slide_type": "fragment"
    }
   },
   "source": [
    "More details at https://psicode.org/psi4manual/master/tutorial.html"
   ]
  },
  {
   "cell_type": "markdown",
   "id": "667f0fd4",
   "metadata": {
    "slideshow": {
     "slide_type": "slide"
    }
   },
   "source": [
    "### Psi API"
   ]
  },
  {
   "cell_type": "markdown",
   "id": "b1d0d49a",
   "metadata": {
    "cell_style": "split",
    "slideshow": {
     "slide_type": "-"
    }
   },
   "source": [
    "- use psi4 following `import psi4` in python\n",
    "- commands normally behind `psi4` namespace\n",
    "- can do more complex things with wavefunction objects, loops, etc.\n",
    "- **Jupyter compatible!**"
   ]
  },
  {
   "cell_type": "markdown",
   "id": "c4dec660",
   "metadata": {
    "cell_style": "split",
    "slideshow": {
     "slide_type": "fragment"
    }
   },
   "source": [
    "- options may be set using a single dictionary:\n",
    "```python\n",
    "psi4.set_options({\n",
    "    \"e_convergence\": 1e-11,\n",
    "    \"r_convergence\": 1e-11,\n",
    "    \"reference\": 'rohf',\n",
    "    \"freeze_core\": True\n",
    "})\n",
    "```"
   ]
  },
  {
   "cell_type": "markdown",
   "id": "0b9921f6",
   "metadata": {
    "slideshow": {
     "slide_type": "fragment"
    }
   },
   "source": [
    "- accessing and storing outputs is tricky:\n",
    "  - printed into `stdout`\n",
    "  - possible to redirect using \n",
    "```python\n",
    "psi4.core.set_output_file(<str output.file>, <bool Append?>)\n",
    "```\n",
    "- respects environmental variables such as `PSI_SCRATCH`, `PATH`, `PYTHONPATH`"
   ]
  },
  {
   "cell_type": "markdown",
   "id": "215f1c3f",
   "metadata": {
    "slideshow": {
     "slide_type": "slide"
    }
   },
   "source": [
    "### Psi API example: \n",
    "#### Running geometry optimizations with preset parameters\n",
    "The following Python script: \n",
    "- runs a geometry optimisation as:\n",
    "```bash\n",
    "python job.py --functional pbe --basis pcseg-2 --nthreads 4 --memory 16 input.xyz\n",
    "```\n",
    "- dumps the optimized geometry into a file\n",
    "- the output filename is a SHA256 of `pbe/pcseg-2:input.xyz`"
   ]
  },
  {
   "cell_type": "markdown",
   "id": "73bd9e33",
   "metadata": {
    "slideshow": {
     "slide_type": "subslide"
    }
   },
   "source": [
    "### Psi API example: \n",
    "#### Imports\n",
    "---\n",
    "\n",
    "```python\n",
    "import psi4\n",
    "import json\n",
    "import argparse\n",
    "import os\n",
    "import sys\n",
    "import hashlib\n",
    "```"
   ]
  },
  {
   "cell_type": "markdown",
   "id": "fc10b22c",
   "metadata": {
    "slideshow": {
     "slide_type": "subslide"
    }
   },
   "source": [
    "### Psi API example: \n",
    "#### Input parsing with `argparse`\n",
    "---\n",
    "```python\n",
    "parser = argparse.ArgumentParser(\n",
    "    description=\"Run a geometry optimization starting with an xyz file and a method\")\n",
    "parser.add_argument(\"xyzfile\", help = \"path to input XYZ file\")\n",
    "parser.add_argument(\"--functional\", help = \"method to use\",\n",
    "                    default=\"b3lyp-d3bj\", type = str.lower)\n",
    "parser.add_argument('--basis', help=\"basis set to use\",\n",
    "                    default=\"def2-svpd\", type = str.lower)\n",
    "parser.add_argument('--nthreads', help=\"number of threads\", default=4, type = int)\n",
    "parser.add_argument('--memory', help=\"amount of memory (GB)\", default=4, type = float)\n",
    "parser.add_argument('--outpath', help=\"path to putput folder\", default=\"results\")\n",
    "parser.add_argument('--cluster', default=\"local\", type = str.lower)\n",
    "parser.add_argument('--hess', default=-1, type = int)\n",
    "parser.add_argument('--dyn', default=0, type = int)\n",
    "args = parser.parse_args()\n",
    "````"
   ]
  },
  {
   "cell_type": "markdown",
   "id": "9e2512e9",
   "metadata": {
    "slideshow": {
     "slide_type": "subslide"
    }
   },
   "source": [
    "### Psi API example:\n",
    "#### Some sanity checks to avoid duplication\n",
    "---\n",
    "```python\n",
    "assert os.path.exists(args.xyzfile)\n",
    "infolder, xyzfile = os.path.split(args.xyzfile)\n",
    "method = f\"{args.functional}/{args.basis}\"\n",
    "outmoltag = f\"{method}:{xyzfile}\"\n",
    "outmolhash = hashlib.sha256(outmoltag.encode(\"utf-8\")).hexdigest()[:10]\n",
    "outmolfn = f\"{outmolhash}.xyz\"\n",
    "\n",
    "if os.path.exists(os.path.join(args.outpath, outmolfn)):\n",
    "    print(f\"Job {outmoltag} already performed. Skipping.\")\n",
    "    sys.exit()\n",
    "```"
   ]
  },
  {
   "cell_type": "markdown",
   "id": "f44c62e1",
   "metadata": {
    "slideshow": {
     "slide_type": "subslide"
    }
   },
   "source": [
    "### Psi API example: \n",
    "#### Psi4 inputs are set here\n",
    "---\n",
    "```python\n",
    "print(f\"Calculating job {outmoltag} now.\")\n",
    "with open(os.path.join(infolder, xyzfile), \"r\") as infile:\n",
    "    inmolstr = infile.read().strip()\n",
    "inmol = psi4.geometry(inmolstr)\n",
    "\n",
    "psi4.set_memory(f\"{args.memory:4f}GB\")\n",
    "psi4.set_num_threads(args.nthreads)\n",
    "psi4.set_options({\n",
    "    \"dft_spherical_points\": 974,\n",
    "    \"dft_radial_points\": 150,\n",
    "    \"g_convergence\": \"interfrag_tight\",\n",
    "    \"full_hess_every\": args.hess,\n",
    "    \"dynamic_level\": args.dyn\n",
    "})\n",
    "```"
   ]
  },
  {
   "cell_type": "markdown",
   "id": "ea7091de",
   "metadata": {
    "slideshow": {
     "slide_type": "subslide"
    }
   },
   "source": [
    "### Psi API example: \n",
    "#### Calculate.\n",
    "```python\n",
    "E, wfn = psi4.optimize(method, molecule = inmol, return_wfn = True)\n",
    "```"
   ]
  },
  {
   "cell_type": "markdown",
   "id": "daf0edaa",
   "metadata": {
    "slideshow": {
     "slide_type": "subslide"
    }
   },
   "source": [
    "### Psi API example: \n",
    "####  And save.\n",
    "---\n",
    "```python\n",
    "outmolarr = wfn.molecule().save_string_xyz_file().split(\"\\n\")\n",
    "outmolarr[1] = outmoltag\n",
    "os.makedirs(args.outpath, exist_ok = True)\n",
    "with open(os.path.join(args.outpath, f\"{outmolhash}.xyz\"), \"w\") as outfile:\n",
    "    outfile.write(\"\\n\".join(outmolarr))\n",
    "```\n",
    "---"
   ]
  },
  {
   "cell_type": "markdown",
   "id": "4254bc35",
   "metadata": {
    "slideshow": {
     "slide_type": "fragment"
    }
   },
   "source": [
    "More information at https://psicode.org/psi4manual/master/psiapi.html"
   ]
  },
  {
   "cell_type": "markdown",
   "id": "53340f4d",
   "metadata": {
    "cell_style": "split",
    "slideshow": {
     "slide_type": "slide"
    }
   },
   "source": [
    "### Via QCSchema + QCEngine / QCFractal\n",
    "\n",
    "- either as \n",
    "\n",
    "    `psi4 --schema <input.json>`\n",
    "- or within python using\n",
    "\n",
    "    `qcng.compute(input_dict, \"psi4\", ...)`"
   ]
  },
  {
   "cell_type": "markdown",
   "id": "12961b36",
   "metadata": {
    "cell_style": "split",
    "slideshow": {
     "slide_type": "-"
    }
   },
   "source": [
    "<img src=\"images/MolSSI-Logo-2.jpg\"/>"
   ]
  },
  {
   "cell_type": "markdown",
   "id": "40a79b98",
   "metadata": {
    "slideshow": {
     "slide_type": "subslide"
    }
   },
   "source": [
    "#### What are QCSchema + QCEngine\n",
    "- unified specification of QM inputs\n",
    "- E, G, H calculations possible\n",
    "- translation layer to many QM packages, including Psi4, PySCF, Q-Chem, etc...\n",
    "- very good for production runs of many identical jobs\n",
    "- outputs are specially formatted `json` files, including:\n",
    "  - date, hostname, information about environment\n",
    "  - information about QM package used\n",
    "  - a copy of input json\n",
    "  - full output file (optional)\n",
    "  - a dictionary of calculated quantities\n",
    "- Peter's gold standard <sup>TM</sup> in reproducible computational data\n",
    "\n",
    "More info about the schema: https://molssi-qc-schema.readthedocs.io/en/latest/index.html\n",
    "\n",
    "More info about the engine: https://qcengine.readthedocs.io/en/latest/"
   ]
  },
  {
   "cell_type": "markdown",
   "id": "0576295e",
   "metadata": {
    "slideshow": {
     "slide_type": "subslide"
    }
   },
   "source": [
    "#### What is QCFractal\n",
    "- a way to handle your many clusters in a smart, transparent way\n",
    "  - job submission on `gridengine`, `pbs`, `slurm`...\n",
    "  - once set-up, don't have to worry about writing inputs\n",
    "- a database of all calculations performed\n",
    "  - a newly submitted job gets queried against the database first\n",
    "  - easy plotting, benchmarking, etc.\n",
    "- good if you have your own always-on fileserver\n",
    "- probably an overkill for most cases\n",
    "\n",
    "More info on qcfractal: http://docs.qcarchive.molssi.org/projects/QCFractal/en/stable/"
   ]
  },
  {
   "cell_type": "markdown",
   "id": "19c838c5",
   "metadata": {
    "slideshow": {
     "slide_type": "slide"
    }
   },
   "source": [
    "### QCEngine example:\n",
    "#### Running single point calculations using schema\n",
    "The following python script:\n",
    "  - runs a single point calculation\n",
    "  - loads structural and computational data from a `json` file\n",
    "  - modifies the `method` and `basis` from arguments\n",
    "  - sets `memory` and `ncores` from arguments\n",
    "  - writes out the `json` if successful\n",
    "  - cleans up inputs if asked to"
   ]
  },
  {
   "cell_type": "markdown",
   "id": "cae7f359",
   "metadata": {
    "slideshow": {
     "slide_type": "subslide"
    }
   },
   "source": [
    "### QCEngine example:\n",
    "#### Imports. Note `qcengine` is imported.\n",
    "---\n",
    "```python\n",
    "import psi4\n",
    "import os\n",
    "import json\n",
    "import qcengine as qcng\n",
    "import argparse\n",
    "```"
   ]
  },
  {
   "cell_type": "markdown",
   "id": "29484b5f",
   "metadata": {
    "slideshow": {
     "slide_type": "subslide"
    }
   },
   "source": [
    "### QCEngine example:\n",
    "#### Argument parsing with `argparse`, again.\n",
    "---\n",
    "```python\n",
    "parser = argparse.ArgumentParser(description=\"Run single point energies of an json schema files\")\n",
    "\n",
    "parser.add_argument('--input', help=\"path to JSON schema file\")\n",
    "parser.add_argument('--output', help=\"requested output path\")\n",
    "parser.add_argument('--functional', help=\"method to use\", required = True, type = str.lower)\n",
    "parser.add_argument('--basis', help=\"basis set to use\", required = True, type = str.lower)\n",
    "parser.add_argument('--nthreads', help=\"number of threads\", default=4, type = int)\n",
    "parser.add_argument('--memory', help=\"amount of memory\", default=4, type = float)\n",
    "parser.add_argument('--clean', help=\"file prefix to clean\", default = False)\n",
    "parser.add_argument('--tag', default=\"\")\n",
    "\n",
    "args = parser.parse_args()\n",
    "```"
   ]
  },
  {
   "cell_type": "markdown",
   "id": "d44f178c",
   "metadata": {
    "cell_style": "split",
    "slideshow": {
     "slide_type": "subslide"
    }
   },
   "source": [
    "### QCEngine example:\n",
    "#### Load input `json` and augment `\"model\"` key: \n",
    "---\n",
    "```python\n",
    "assert os.path.exists(args.input)\n",
    "with open(args.input, \"r\") as infile:\n",
    "    molschema = json.load(infile)\n",
    "molschema[\"model\"] = {\n",
    "    \"method\": args.functional,\n",
    "    \"basis\": args.basis\n",
    "}\n",
    "```"
   ]
  },
  {
   "cell_type": "markdown",
   "id": "700df51c",
   "metadata": {
    "cell_style": "split",
    "slideshow": {
     "slide_type": "fragment"
    }
   },
   "source": [
    "```json\n",
    "{\n",
    " \"molecule\": {\n",
    "  \"symbols\": [\n",
    "   \"C\",   \"C\"\n",
    "  ],\n",
    "  \"geometry\": [\n",
    "   0.0,   0.0,   0.0,\n",
    "   0.0,   0.0,   2.343260395567707\n",
    "  ],\n",
    "  \"molecular_charge\": 0,\n",
    "  \"molecular_multiplicity\": 1\n",
    " },\n",
    " \"driver\": \"energy\",\n",
    " \"model\": {},\n",
    " \"keywords\": {\n",
    "  \"reference\": \"RKS\",\n",
    "  \"dft_spherical_points\": 974,\n",
    "  \"dft_radial_points\": 150,\n",
    "  \"guess\": \"SAP\"\n",
    " }\n",
    "}\n",
    "```"
   ]
  },
  {
   "cell_type": "markdown",
   "id": "04601d0b",
   "metadata": {
    "slideshow": {
     "slide_type": "subslide"
    }
   },
   "source": [
    "### QCEngine example:\n",
    "#### Execute our `molschema` with `psi4` via `qcengine`:\n",
    "---\n",
    "```python\n",
    "ret = qcng.compute(molschema, \"psi4\",\n",
    "                    return_dict=True,\n",
    "                    local_options={\"memory\": args.memory, \"ncores\": args.nthreads})\n",
    "```"
   ]
  },
  {
   "cell_type": "markdown",
   "id": "6da8b279",
   "metadata": {
    "slideshow": {
     "slide_type": "subslide"
    }
   },
   "source": [
    "### QCEngine example:\n",
    "#### Output handling and cleaning:\n",
    "---\n",
    "```python\n",
    "if ret[\"success\"]:\n",
    "    ret[\"tag\"] = args.tag\n",
    "    with open(args.output, \"w\") as outfile:\n",
    "        json.dump(ret, outfile, indent=1)\n",
    "    if args.clean:\n",
    "        cleanlist = [fn for fn in os.listdir(os.getcwd()) if fn.startswith(args.clean)]\n",
    "        for fn in cleanlist:\n",
    "            os.remove(fn)\n",
    "else:\n",
    "    print(ret)\n",
    "    raise RuntimeError\n",
    "```"
   ]
  },
  {
   "cell_type": "markdown",
   "id": "b985d701",
   "metadata": {
    "slideshow": {
     "slide_type": "slide"
    }
   },
   "source": [
    "## Basics of Psi4 calculations\n",
    "\n",
    "- molecule specification\n",
    "- single point energies\n",
    "- optimizations (gradients)\n",
    "- vibrational analysis (Hessians)"
   ]
  },
  {
   "cell_type": "markdown",
   "id": "8f624483",
   "metadata": {
    "slideshow": {
     "slide_type": "slide"
    }
   },
   "source": [
    "### Molecule specification:"
   ]
  },
  {
   "cell_type": "markdown",
   "id": "38d8f6dc",
   "metadata": {
    "cell_style": "split",
    "slideshow": {
     "slide_type": "fragment"
    }
   },
   "source": [
    "#### Cartesians in Å\n",
    "---\n",
    "```python\n",
    "molecule FeC {\n",
    " 0 3\n",
    " Fe 0 0 0\n",
    " C  0 0 3.1558426295145727\n",
    "}\n",
    "```"
   ]
  },
  {
   "cell_type": "markdown",
   "id": "bc39b027",
   "metadata": {
    "cell_style": "split",
    "slideshow": {
     "slide_type": "fragment"
    }
   },
   "source": [
    "#### Z-matrix in Bohr\n",
    "---\n",
    "```python\n",
    "molecule FeC {\n",
    " 0 3\n",
    " Fe \n",
    " C  6\n",
    " units bohr\n",
    "}\n",
    "```"
   ]
  },
  {
   "cell_type": "markdown",
   "id": "f69a640c",
   "metadata": {
    "cell_style": "split",
    "slideshow": {
     "slide_type": "fragment"
    }
   },
   "source": [
    "#### Or from an XYZ file (Psi API syntax):\n",
    "---\n",
    "```python\n",
    "with open(\"input.xyz\", \"r\") as infile:\n",
    "    inmolstr = infile.read().strip()\n",
    "FeC = psi4.geometry(inmolstr)\n",
    "FeC.set_multiplicity(3)\n",
    "```"
   ]
  },
  {
   "cell_type": "markdown",
   "id": "a0a292c2",
   "metadata": {
    "cell_style": "split",
    "slideshow": {
     "slide_type": "fragment"
    }
   },
   "source": [
    "#### Or maybe from `pubchem` (Psi API syntax):\n",
    "---\n",
    "```python\n",
    "O2 = psi4.geometry(\"pubchem:O2\")\n",
    "O2.set_multiplicity(3)\n",
    "```"
   ]
  },
  {
   "cell_type": "markdown",
   "id": "1fc2e2da",
   "metadata": {
    "slideshow": {
     "slide_type": "slide"
    }
   },
   "source": [
    "### Molecule specification details:\n",
    "\n",
    "- you can specify more than one molecule in one script: the argument before `{}` becomes its name"
   ]
  },
  {
   "cell_type": "markdown",
   "id": "06a5ed2b",
   "metadata": {
    "cell_style": "split",
    "slideshow": {
     "slide_type": "fragment"
    }
   },
   "source": [
    "- you can split molecule into fragments using `--`:\n",
    "\n",
    "    ```\n",
    "    molecule XeXe {\n",
    "      0 1\n",
    "      Xe 0 0 0\n",
    "      --\n",
    "      0 1\n",
    "      Xe 0 0 4.1\n",
    "    }\n",
    "    ```"
   ]
  },
  {
   "cell_type": "markdown",
   "id": "9823d221",
   "metadata": {
    "cell_style": "split",
    "slideshow": {
     "slide_type": "fragment"
    }
   },
   "source": [
    "- you can set ghost atoms using `@` or `(Gh)`:\n",
    "\n",
    "    ```\n",
    "    molecule XeXe {\n",
    "      0 1\n",
    "      Xe   0 0 0\n",
    "      @Xe  0 0 2.05\n",
    "      Xe   0 0 4.10\n",
    "    }\n",
    "    ```"
   ]
  },
  {
   "cell_type": "markdown",
   "id": "9cb138dd",
   "metadata": {
    "slideshow": {
     "slide_type": "fragment"
    }
   },
   "source": [
    "- you can request lower (e.g. C$_1$) symmetry by appending `symmetry c1`\n",
    "- commands `no_reorient` and `no_com` are useful to stop rotating and translating the molecule"
   ]
  },
  {
   "cell_type": "markdown",
   "id": "a2ce0b67",
   "metadata": {
    "slideshow": {
     "slide_type": "subslide"
    }
   },
   "source": [
    "### Molecule specification via templates:\n",
    "- very powerful for PES searches:\n",
    "  - first, define a template:\n",
    "```python\n",
    "template = \"\"\"\n",
    "           0 1\n",
    "           He           X_POS Y_POS    0.000000000000\n",
    "           --\n",
    "           0 1\n",
    "           C            0.000 0.000    0.000000000000\n",
    "           O           -1.161 0.000    0.000000000000\n",
    "           S            1.561 0.000    0.000000000000\n",
    "           no_reorient\n",
    "           no_com\n",
    "           \"\"\"\n",
    "angles = [offset + each * 0.5 for each in range(0,nangles)]\n",
    "radii  = [2.2 + each * 0.05 for each in range(0,61)]\n",
    "```"
   ]
  },
  {
   "cell_type": "markdown",
   "id": "4f79f739",
   "metadata": {
    "slideshow": {
     "slide_type": "subslide"
    }
   },
   "source": [
    "### Molecule specification via templates:\n",
    "- very powerful for PES searches:\n",
    "  - second, modify the template and run a calculation\n",
    "```python\n",
    "for angle in angles:\n",
    "    for radius in radii:\n",
    "        y = math.sin(angle*(2*math.pi/360)) * radius\n",
    "        x = math.cos(angle*(2*math.pi/360)) * radius * -1\n",
    "        molecule = template.replace(\"X_POS\", \"{0:f}\".format(x))\n",
    "        molecule = molecule.replace(\"Y_POS\", \"{0:f}\".format(y))\n",
    "        print(molecule)\n",
    "        geometry = psi4.geometry(molecule)\n",
    "        geometry.set_molecular_charge(0)\n",
    "        geometry.set_multiplicity(1)\n",
    "        geometry.update_geometry()\n",
    "        [...]\n",
    "```"
   ]
  },
  {
   "cell_type": "markdown",
   "id": "8ee6612a",
   "metadata": {
    "slideshow": {
     "slide_type": "slide"
    }
   },
   "source": [
    "### Single point energies:"
   ]
  },
  {
   "cell_type": "markdown",
   "id": "90cf454b",
   "metadata": {
    "cell_style": "split",
    "slideshow": {
     "slide_type": "fragment"
    }
   },
   "source": [
    "- `method/basis` syntax:\n",
    "```python\n",
    "energy('pbe0-d3/cc-pvdz', molecule = XeXe)\n",
    "```"
   ]
  },
  {
   "cell_type": "markdown",
   "id": "5210782d",
   "metadata": {
    "cell_style": "split",
    "slideshow": {
     "slide_type": "fragment"
    }
   },
   "source": [
    "- separate basis syntax:\n",
    "```python\n",
    "set basis cc-pvdz\n",
    "energy('pbe0-d3', molecule = XeXe)\n",
    "```"
   ]
  },
  {
   "cell_type": "markdown",
   "id": "0bdce247",
   "metadata": {
    "slideshow": {
     "slide_type": "fragment"
    }
   },
   "source": [
    "- $\\psi$ can be returned using `return_wfn = True`:\n",
    "````python\n",
    "E, wfn = energy(..., return_wfn = True)\n",
    "````\n",
    "- methods include: many DFAs, HF, MP2 through MP4, CCSD, CCSD(T), CISD, FCI, SAPT, ...\n",
    "- basis set families include: cc-pvXz, aug-cc-pvXz, def2-Xzvp, def2-Xzvpp, def2-Xzvppd, pcseg-N, aug-pcseg-N, ..."
   ]
  },
  {
   "cell_type": "markdown",
   "id": "a3d46678",
   "metadata": {
    "slideshow": {
     "slide_type": "subslide"
    }
   },
   "source": [
    "### Single point energies: Module selection\n",
    "\n",
    "- by default, density fitting is used for all methods: this **requires** a proper **auxilliary basis set**\n",
    "- most included families (cc-pvXz, def2-Xzvp and augmented variants) have a sensible default up to 4-$\\zeta$\n",
    "- for exotic or large basis sets, use non-DF variants:\n",
    "  - for SCF (and DFT): `set scf_type pk` works well\n",
    "  - for post-HF methods: `set scf_type direct`, `set mp2_type conv`, `set cc_type conv` works well\n"
   ]
  },
  {
   "cell_type": "markdown",
   "id": "8f748288",
   "metadata": {
    "slideshow": {
     "slide_type": "subslide"
    }
   },
   "source": [
    "### Single point energies: DFT grid selection\n",
    "\n",
    "- the default integration grid is quite small - unpruned (75, 302) as of Apr. 2021\n",
    "- change grid parameters to (99, 590) using:\n",
    "    ```\n",
    "    set dft_spherical_points 590\n",
    "    set dft_radial_points 99\n",
    "    ```\n",
    "  the full list of available grids is [here](https://psicode.org/psi4manual/master/dft.html#grid-selection).\n",
    "- grid point pruning can be turned on using:\n",
    "    ```\n",
    "    set dft_pruning_scheme robust\n",
    "    ```"
   ]
  },
  {
   "cell_type": "markdown",
   "id": "e85bec7f",
   "metadata": {
    "slideshow": {
     "slide_type": "slide"
    }
   },
   "source": [
    "### Optimizations and Gradients\n",
    "\n",
    "- Gradients:\n",
    "  - analytical gradients available for most methods\n",
    "  - **excluding** DHDFA and DFT-V or DFT-NL\n",
    "  - findif can be done with anything\n",
    "- Optimization:\n",
    "  - handled by OPTKING, about to be replaced by py-optking"
   ]
  },
  {
   "cell_type": "markdown",
   "id": "570f12ca",
   "metadata": {
    "cell_style": "split",
    "slideshow": {
     "slide_type": "fragment"
    }
   },
   "source": [
    "- `method/basis` syntax:\n",
    "```\n",
    "optimize('hf/cc-pvdz', molecule = XeXe)\n",
    "```"
   ]
  },
  {
   "cell_type": "markdown",
   "id": "3805bc9f",
   "metadata": {
    "cell_style": "split",
    "slideshow": {
     "slide_type": "-"
    }
   },
   "source": [
    "- separate basis syntax:\n",
    "```\n",
    "set basis cc-pvdz\n",
    "optimize('hf', molecule = XeXe)\n",
    "```"
   ]
  },
  {
   "cell_type": "markdown",
   "id": "dc209df5",
   "metadata": {
    "slideshow": {
     "slide_type": "fragment"
    }
   },
   "source": [
    "- note that the `molecule` object passed to `optimize` is changed during the optimization\n",
    "    - use `molecule = XeXe.clone()` if you want to keep the original unchanged"
   ]
  },
  {
   "cell_type": "markdown",
   "id": "d879f93f",
   "metadata": {
    "slideshow": {
     "slide_type": "subslide"
    }
   },
   "source": [
    "### Optimization convergence and conv. criteria\n",
    "\n",
    "Criteria:\n",
    "- reasonably tight [defaults](https://psicode.org/psi4manual/master/optking.html#convergence-criteria), equivalent to Q-chem\n",
    "- possible to tighten using `set g_convergence gau_tight` or `gau_verytight` for Gaussian-equivalents\n",
    "- for vdW complexes, `set g_convergence interfrag_tight` works well"
   ]
  },
  {
   "cell_type": "markdown",
   "id": "28c80799",
   "metadata": {
    "slideshow": {
     "slide_type": "fragment"
    }
   },
   "source": [
    "Convergence:\n",
    "- supplying an initial Hessian with `set full_hess_every 0` helps\n",
    "- Hessian can be calculated with a cheaper method:\n",
    "```python\n",
    "optimize(\"ccsd(t)/aug-cc-pvtz\", ..., hessian_with=\"mp2\")\n",
    "```\n",
    "- for difficult cases, `set dynamic_level 1` or `set opt_coordinates both` may help"
   ]
  },
  {
   "cell_type": "markdown",
   "id": "02d05e3e",
   "metadata": {
    "slideshow": {
     "slide_type": "subslide"
    }
   },
   "source": [
    "### Optimization types\n",
    "- minimum is default, TS and IRC can be accessed with `set opt_type ts` or `set opt_type irc`\n",
    "  - note that you _really_ want a good Hessian for TS or IRC search\n",
    "- constrained optimization:\n",
    "  - possible, but quite finicky with syntax:\n",
    "```\n",
    "   molecule {\n",
    "     H\n",
    "     O 1 0.90\n",
    "     O 2 1.40 1 100.0\n",
    "     H 3 0.90 2 100.0 1 90.0\n",
    "   }\n",
    "   set optking {\n",
    "     frozen_dihedral = (\"\"\"\n",
    "       1 2 3 4\n",
    "     \"\"\")\n",
    "   }\n",
    "   optimize('scf')\n",
    "```"
   ]
  },
  {
   "cell_type": "markdown",
   "id": "7dd20789",
   "metadata": {
    "slideshow": {
     "slide_type": "subslide"
    }
   },
   "source": [
    "### Gradient / Optimization caveats:\n",
    "\n",
    "- ECP gradients are numerical - analytical ones coming in Psi4 1.5 via libecpint\n",
    "- counterpoise-corrected optimization (or energy) possible with:\n",
    "```python\n",
    "optimize('m062x/def2-svpd', molecule = dimer, bsse_type = 'cp')\n",
    "```\n",
    "  this of course requires the `dimer` to be specified with two fragments.\n",
    "- can also use the `cbs` wrapper in optimization."
   ]
  },
  {
   "cell_type": "markdown",
   "id": "e542c847",
   "metadata": {
    "slideshow": {
     "slide_type": "slide"
    }
   },
   "source": [
    "### Frequencies and Hessians\n",
    "\n",
    "- Hessians:\n",
    "  - analytical gradients available only for HF\n",
    "  - findif can be done with anything:\n",
    "  - accessed through: \n",
    "```\n",
    "H, wfn = hessian('blyp/pseg-0', [...], return_wfn = True)\n",
    "```\n"
   ]
  },
  {
   "cell_type": "markdown",
   "id": "f5c9ca02",
   "metadata": {
    "slideshow": {
     "slide_type": "fragment"
    }
   },
   "source": [
    "\n",
    "- Frequencies:\n",
    "  - accessible directly from `frequency('blyp/pcseg-0', [...])`\n",
    "  - or indirectly using `freqs = vibanal_wfn(wfn)` if you have a Hessian already"
   ]
  },
  {
   "cell_type": "markdown",
   "id": "4a3ea988",
   "metadata": {
    "slideshow": {
     "slide_type": "subslide"
    }
   },
   "source": [
    "### Thermochemical analysis\n",
    "- printed by default if you request a `frequency([...])` calculation\n",
    "  - 298.15 K, 101325 Pa, most common isotope masses\n",
    "  - can be adjusted and re-ran at different T, p as follows:\n",
    "```\n",
    "H, wfn = frequency('hf3c', return_wfn = True)\n",
    "set t 273.15\n",
    "set p 100000\n",
    "thermo(wfn, wfn.frequencies())\n",
    "```"
   ]
  },
  {
   "cell_type": "markdown",
   "id": "a36cdbc6",
   "metadata": {
    "slideshow": {
     "slide_type": "fragment"
    }
   },
   "source": [
    "- more control can be achieved with `vibanal_wfn()`:\n",
    "```python\n",
    "G, wfnG = optimize(\"hf3c\", return_wfn = True, molecule = h2o)\n",
    "H, wfnH = frequency(\"hf3c\", ref_gradient = wfnG.gradient(), return_wfn = True, molecule = h2o)\n",
    "# Modify h2o -> d2o:\n",
    "d2o = h2o.clone()\n",
    "d2o.set_mass(0, 2.014101779)\n",
    "d2o.set_mass(2, 2.014101779)\n",
    "vibinfo = vibanal_wfn(wfnH, molecule = d2o)\n",
    "```"
   ]
  },
  {
   "cell_type": "markdown",
   "id": "075673c5",
   "metadata": {
    "slideshow": {
     "slide_type": "slide"
    }
   },
   "source": [
    " ### Thanks for listening!\n",
    "\n",
    "[Session 2](session_2.ipynb)"
   ]
  },
  {
   "cell_type": "code",
   "execution_count": null,
   "id": "a21ba814",
   "metadata": {},
   "outputs": [],
   "source": []
  }
 ],
 "metadata": {
  "celltoolbar": "Slideshow",
  "kernelspec": {
   "display_name": "psi4_seminar",
   "language": "python",
   "name": "psi4_seminar"
  },
  "language_info": {
   "codemirror_mode": {
    "name": "ipython",
    "version": 3
   },
   "file_extension": ".py",
   "mimetype": "text/x-python",
   "name": "python",
   "nbconvert_exporter": "python",
   "pygments_lexer": "ipython3",
   "version": "3.9.2"
  },
  "rise": {
   "auto_select": "first",
   "auto_select_fragment": true,
   "autolaunch": true,
   "center": false,
   "enable_chalkboard": true,
   "scroll": true,
   "theme": "simple"
  }
 },
 "nbformat": 4,
 "nbformat_minor": 5
}
