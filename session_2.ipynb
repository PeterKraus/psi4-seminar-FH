{
 "cells": [
  {
   "cell_type": "markdown",
   "id": "17e00d59",
   "metadata": {
    "cell_style": "split",
    "slideshow": {
     "slide_type": "slide"
    }
   },
   "source": [
    "## Practical introduction to SAPT\n",
    "\n",
    "- Calculating interaction energies $E_\\text{int}$ of systems\n",
    "- Decomposition of those $E_\\text{int}$'s to physically relevant quantities\n",
    "- Schrödinger equation: <br/>\n",
    "  $\\hat{H}\\Psi = E\\Psi$"
   ]
  },
  {
   "cell_type": "markdown",
   "id": "a262039a",
   "metadata": {
    "cell_style": "split",
    "slideshow": {
     "slide_type": "-"
    }
   },
   "source": [
    "<img src=\"images/dms_so2_mol.png\" width=\"300\" height=\"300\"/>"
   ]
  },
  {
   "cell_type": "markdown",
   "id": "00a09232",
   "metadata": {
    "cell_style": "split",
    "slideshow": {
     "slide_type": "fragment"
    }
   },
   "source": [
    "- Supra-molecular methods: varying $\\Psi$\n",
    "  - calculate monomers A and B separately\n",
    "  - calculate dimer AB\n",
    "  - $E_\\text{int} = E_\\text{AB} - E_\\text{A} - E_\\text{B}$\n",
    "  - suffers from BSSE\n",
    "  - EDA is tacked \"on top\""
   ]
  },
  {
   "cell_type": "markdown",
   "id": "d66bb6d8",
   "metadata": {
    "cell_style": "split",
    "slideshow": {
     "slide_type": "fragment"
    }
   },
   "source": [
    "- Symmetry-adapted perturbation theory: varying $\\hat{H}$\n",
    "  - use polarisation expansion & exchange terms\n",
    "  - provides EDA directly:\n",
    "    $E_\\text{int} = E_\\text{exch} + E_\\text{elst} + E_\\text{ind} + E_\\text{disp}$\n",
    "  - higher order terms become hard to interpret\n",
    "  - no charge transfer term  "
   ]
  },
  {
   "cell_type": "markdown",
   "id": "4e7b6a8f",
   "metadata": {
    "cell_style": "split",
    "slideshow": {
     "slide_type": "subslide"
    }
   },
   "source": [
    "### Useful levels of SAPT\n",
    "\n",
    "- a good set of recommendations by [Parker et al.](https://doi.org/10.1063/1.4867135):\n",
    "  - sSAPT0/jun-cc-pvDZ\n",
    "  - SAPT(DFT)/aug-cc-pvDZ\n",
    "  - SAPT2+/aug-cc-pvDZ\n",
    "  - SAPT2+(3)$\\delta$MP2/aug-cc-pvTZ\n",
    "  - SAPT2+(CCD)$\\delta$MP2/aug-cc-pvTZ\n",
    "- Psi4 great at WFT SAPT\n",
    "- Psi4 not the best at SAPT(DFT)"
   ]
  },
  {
   "cell_type": "markdown",
   "id": "b51e487b",
   "metadata": {
    "cell_style": "split",
    "slideshow": {
     "slide_type": "fragment"
    }
   },
   "source": [
    "<img src=\"images/sapt_levels.jpg\" />"
   ]
  },
  {
   "cell_type": "markdown",
   "id": "2b8fa3f8",
   "metadata": {
    "slideshow": {
     "slide_type": "subslide"
    }
   },
   "source": [
    "### Running SAPT:"
   ]
  },
  {
   "cell_type": "markdown",
   "id": "bcef89f9",
   "metadata": {
    "cell_style": "split",
    "slideshow": {
     "slide_type": "-"
    }
   },
   "source": [
    "- molecule input:\n",
    "  - **has** to have a fragmented molecule and symmetry C$_1$\n",
    "  - `no_com` and `no_reorient` are helpful\n",
    "  \n",
    "  ```\n",
    "  molecule dimer {\n",
    "    0 1\n",
    "    Xe 0 0 0\n",
    "    --\n",
    "    0 1\n",
    "    Xe 0 0 4.1\n",
    "    symmetry c1\n",
    "    no_com\n",
    "    no_reorient\n",
    "  }\n",
    "  ```"
   ]
  },
  {
   "cell_type": "markdown",
   "id": "45c4fe47",
   "metadata": {
    "cell_style": "split",
    "slideshow": {
     "slide_type": "fragment"
    }
   },
   "source": [
    "- execution with:\n",
    "```\n",
    "energy(\"sSAPT0/jun-cc-pvdz\",\n",
    "         molecule = dimer)\n",
    "```\n",
    "\n",
    "- for SAPT(DFT), you need to provide a gradient correction to the functional. See [this link](https://psicode.org/psi4manual/master/sapt.html#sapt-dft)."
   ]
  },
  {
   "cell_type": "markdown",
   "id": "c543593d",
   "metadata": {
    "slideshow": {
     "slide_type": "subslide"
    }
   },
   "source": [
    "### My own examples:"
   ]
  },
  {
   "cell_type": "markdown",
   "id": "e5c26dbf",
   "metadata": {
    "cell_style": "split",
    "slideshow": {
     "slide_type": "-"
    }
   },
   "source": [
    "Energy decomposition of Rg···OCS complexes:\n",
    "<img src=\"images/ternary-1.png\" width=\"300\" />"
   ]
  },
  {
   "cell_type": "markdown",
   "id": "74dad763",
   "metadata": {
    "cell_style": "split",
    "slideshow": {
     "slide_type": "fragment"
    }
   },
   "source": [
    "Interaction energy surface of Ne-OCS:\n",
    "<img src=\"images/Ne-OCS-1.png\" width=\"300\" />"
   ]
  },
  {
   "cell_type": "markdown",
   "id": "667f0fd4",
   "metadata": {
    "slideshow": {
     "slide_type": "subslide"
    }
   },
   "source": [
    "### My own examples:"
   ]
  },
  {
   "cell_type": "markdown",
   "id": "b1d0d49a",
   "metadata": {
    "cell_style": "split",
    "slideshow": {
     "slide_type": "-"
    }
   },
   "source": [
    "\\[H$_2$···HCO\\]$^+$ dissociation:\n",
    "<img src=\"images/h2hco.jpg\" width=\"300\" />"
   ]
  },
  {
   "cell_type": "markdown",
   "id": "0b9921f6",
   "metadata": {
    "slideshow": {
     "slide_type": "subslide"
    }
   },
   "source": [
    "### F/I-SAPT\n",
    "- functional group / intramolecular SAPT\n",
    "  - very powerful to decompose contributions to $E_\\text{int}$ between functional groups\n",
    "  - see more details [here](https://psicode.org/psi4manual/master/fisapt.html)"
   ]
  },
  {
   "cell_type": "markdown",
   "id": "215f1c3f",
   "metadata": {
    "slideshow": {
     "slide_type": "fragment"
    }
   },
   "source": [
    "- Example: DMS···SO$_2$ complex:<br/>\n",
    "\n",
    "$E_\\text{int}$   |  $E_\\text{exch}$ | $E_\\text{elst}$  | $E_\\text{disp}$| $E_\\text{ind}(\\text{AB})$ | $E_\\text{ind}(\\text{BA})$ |\n",
    ":---------------:|:----------------:|:---------------:|:---------------:|:-------------------------:|:-------------------------:|\n",
    "<img src=\"images/Eint.png\" width=\"200\" />|<img src=\"images/Exch.png\" width=\"200\" />|<img src=\"images/Elst.png\" width=\"200\" />|<img src=\"images/Disp.png\" width=\"200\" />|<img src=\"images/IndAB.png\" width=\"200\" />|<img src=\"images/IndBA.png\" width=\"200\" />"
   ]
  },
  {
   "cell_type": "markdown",
   "id": "73bd9e33",
   "metadata": {
    "slideshow": {
     "slide_type": "slide"
    }
   },
   "source": [
    "### Focal point methods in Psi4\n",
    "\n",
    "- SCF energy converges quickly wrt. basis set size\n",
    "- correlation energy converges comparably slowly\n",
    "- Combine: \n",
    "  - $E_\\text{HF}$ from a large basis set (usually extrapolated)\n",
    "  - $E^\\text{corr}_\\text{MP2}$ from a medium basis set (usually extrapolated)\n",
    "  - $\\Delta E^\\text{corr}_\\text{CCSD(T)}$ from difference with MP2 in a smaller basis set\n",
    "  - \\[...\\]"
   ]
  },
  {
   "cell_type": "markdown",
   "id": "de3efd43",
   "metadata": {
    "slideshow": {
     "slide_type": "fragment"
    }
   },
   "source": [
    "- Composite methods: mix and match other corrections:\n",
    "  - basis set augmentation\n",
    "  - core-valence correlation\n",
    "  - relativistic effects\n",
    "  - \\[...\\]"
   ]
  },
  {
   "cell_type": "markdown",
   "id": "fc10b22c",
   "metadata": {
    "slideshow": {
     "slide_type": "subslide"
    }
   },
   "source": [
    "### CBS wrapper:"
   ]
  },
  {
   "cell_type": "markdown",
   "id": "e3b24554",
   "metadata": {
    "cell_style": "split",
    "slideshow": {
     "slide_type": "-"
    }
   },
   "source": [
    "- supports simple basis set extrapolation syntax:\n",
    "```\n",
    "energy(\"HF/cc-pv[q5]z\")\n",
    "```\n",
    "- supports simple $\\Delta$ corrections:\n",
    "```\n",
    "energy(\"MP2/cc-pv[tq]z+D:CCSD(T)/cc-pvtz\")\n",
    "```"
   ]
  },
  {
   "cell_type": "markdown",
   "id": "1bdc77fe",
   "metadata": {
    "cell_style": "split",
    "slideshow": {
     "slide_type": "fragment"
    }
   },
   "source": [
    "- more complicated protocols can be achieved using `cbs_metadata` argument:\n",
    "```\n",
    "params = [\n",
    "  {\"wfn\": \"hf\", \"basis\": \"cc-pv[q5]z\", \n",
    "   \"alpha\": 1.63, \n",
    "   \"scheme\": scf_xtpl_karton2},\n",
    "  {\"wfn\": \"mp2\", \"basis\": \"cc-pv[tq]z\",\n",
    "   \"alpha\": 2.4, \n",
    "   \"scheme\": scf_xtpl_truhlar2},\n",
    "  {\"wfn\": \"ccsd(t)\", \"basis\": \"cc-pvtz\"}\n",
    "]\n",
    "energy(cbs, cbs_metadata = params)\n",
    "```"
   ]
  },
  {
   "cell_type": "markdown",
   "id": "d13a2a02",
   "metadata": {
    "slideshow": {
     "slide_type": "fragment"
    }
   },
   "source": [
    "Full manual at https://psicode.org/psi4manual/master/cbs.html."
   ]
  },
  {
   "cell_type": "markdown",
   "id": "9e2512e9",
   "metadata": {
    "cell_style": "center",
    "slideshow": {
     "slide_type": "subslide"
    }
   },
   "source": [
    "### Special things in Psi4's CBS wrapper:\n",
    "\n",
    "- can do analytic gradients\n",
    "- can do findif gradients and combine with analytic (automatically)\n",
    "- can have \"stages\" with arbitrary options (frozen core, relativistic)\n",
    "- can declare your own xtpl function and pass it as argument"
   ]
  },
  {
   "cell_type": "markdown",
   "id": "f44c62e1",
   "metadata": {
    "slideshow": {
     "slide_type": "subslide"
    }
   },
   "source": [
    "### CBS advanced example:\n",
    "#### Xe···OCS potential energy surface:\n",
    "\n",
    "<img src=\"images/Xe-OCS-1.png\" width=700 height=400/>\n",
    "\n",
    "$\\color{green}{\\circ}$ HF/cc-pwcv\\[tq5\\]z-pp + MP2$^\\text{corr}$/cc-pwcv\\[q5\\]-pp + $\\Delta$(T)@(CCSD(T)-MP2)/cc-pwcv\\[tq\\]-pp\n",
    "\n",
    "$\\color{purple}{\\circ}$ HF/cc-pwcv\\[tq5\\]z-pp + MP2$^\\text{corr}$/cc-pwcv\\[q5\\]-pp + $\\Delta$(T)@(CCSD(T)-MP2)/cc-pwcv\\[tq\\]-pp + $\\delta_\\text{rel}^4$@CCSD(T)/(TZP-dkh - TZP)"
   ]
  },
  {
   "cell_type": "markdown",
   "id": "ea7091de",
   "metadata": {
    "slideshow": {
     "slide_type": "subslide"
    }
   },
   "source": [
    "### Extrapolation of DFT\n",
    "\n",
    "- new functionality, only available in Psi4\n",
    "- planned for 1.5\n"
   ]
  },
  {
   "cell_type": "markdown",
   "id": "daf0edaa",
   "metadata": {
    "slideshow": {
     "slide_type": "fragment"
    }
   },
   "source": [
    "Total DFA \"recipe\" energy defined as:\n",
    "  $E_\\text{tot} = E_\\text{fctl} + \\Delta E_\\text{dh} + \\Delta E_\\text{disp} + \\Delta E_\\text{nl}$\n",
    "  \n",
    "The $E_\\text{fctl}$ component can be further split to:\n",
    "  $E_\\text{fctl} = a_x E_x^\\text{DFA} + (1 - a_x) E_x^\\text{HF} + a_c E_c^\\text{DFA}$\n",
    "  and $\\Delta E_\\text{dh} = (1 - a_c) E_c^\\text{MP2}$"
   ]
  },
  {
   "cell_type": "markdown",
   "id": "4254bc35",
   "metadata": {
    "slideshow": {
     "slide_type": "fragment"
    }
   },
   "source": [
    "Use numerical complete basis set data for diatomic molecules with PBE-like functionals to fit:\n",
    "\n",
    "$\\alpha = \\alpha_0 + \\alpha_x a_x + \\alpha_c a_c$"
   ]
  },
  {
   "cell_type": "markdown",
   "id": "53340f4d",
   "metadata": {
    "cell_style": "center",
    "slideshow": {
     "slide_type": "subslide"
    }
   },
   "source": [
    "### Extrapolation procedure\n",
    "\n",
    "- use exponential-square root for $E_\\text{fctl}$ component with $\\alpha$ as above\n",
    "- use power law for $\\Delta E_\\text{dh}$ with $\\alpha = 2.4$ or $3.0$\n",
    "- do not extrapolate $\\Delta E_\\text{disp}$ or $\\Delta E_\\text{nl}$"
   ]
  },
  {
   "cell_type": "markdown",
   "id": "0576295e",
   "metadata": {
    "slideshow": {
     "slide_type": "fragment"
    }
   },
   "source": [
    "#### Results"
   ]
  },
  {
   "cell_type": "markdown",
   "id": "7ce95bb8",
   "metadata": {
    "slideshow": {
     "slide_type": "-"
    }
   },
   "source": [
    "works for DHDFAs | also with pcseg-N | and for range-separated DFAs |\n",
    ":---------------:|:---------------:|:---------------:|\n",
    "<img src=\"images/dsdblyp-1.png\" width=\"300\" />|<img src=\"images/pbe0dh-1.png\" width=\"300\" />|<img src=\"images/wb97xv-1.png\" width=\"300\" />|"
   ]
  },
  {
   "cell_type": "markdown",
   "id": "e234122a",
   "metadata": {
    "slideshow": {
     "slide_type": "slide"
    }
   },
   "source": [
    "### Thanks for listening!"
   ]
  },
  {
   "cell_type": "code",
   "execution_count": null,
   "id": "e75fa79d",
   "metadata": {},
   "outputs": [],
   "source": []
  }
 ],
 "metadata": {
  "celltoolbar": "Slideshow",
  "kernelspec": {
   "display_name": "psi4_seminar",
   "language": "python",
   "name": "psi4_seminar"
  },
  "language_info": {
   "codemirror_mode": {
    "name": "ipython",
    "version": 3
   },
   "file_extension": ".py",
   "mimetype": "text/x-python",
   "name": "python",
   "nbconvert_exporter": "python",
   "pygments_lexer": "ipython3",
   "version": "3.9.2"
  },
  "rise": {
   "auto_select": "first",
   "auto_select_fragment": true,
   "autolaunch": true,
   "center": false,
   "enable_chalkboard": true,
   "scroll": true,
   "theme": "simple"
  }
 },
 "nbformat": 4,
 "nbformat_minor": 5
}
